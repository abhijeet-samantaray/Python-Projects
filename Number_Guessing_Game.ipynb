{
  "nbformat": 4,
  "nbformat_minor": 0,
  "metadata": {
    "colab": {
      "provenance": [],
      "authorship_tag": "ABX9TyNiCj7ppA55qAYI1eFaMa9M",
      "include_colab_link": true
    },
    "kernelspec": {
      "name": "python3",
      "display_name": "Python 3"
    },
    "language_info": {
      "name": "python"
    }
  },
  "cells": [
    {
      "cell_type": "markdown",
      "metadata": {
        "id": "view-in-github",
        "colab_type": "text"
      },
      "source": [
        "<a href=\"https://colab.research.google.com/github/abhijeet-samantaray/Python-Projects/blob/main/Number_Guessing_Game.ipynb\" target=\"_parent\"><img src=\"https://colab.research.google.com/assets/colab-badge.svg\" alt=\"Open In Colab\"/></a>"
      ]
    },
    {
      "cell_type": "code",
      "execution_count": 15,
      "metadata": {
        "colab": {
          "base_uri": "https://localhost:8080/"
        },
        "id": "4F7t5tLR4fxR",
        "outputId": "f0d7611f-53ef-4eba-9269-0ac69ab00ccc"
      },
      "outputs": [
        {
          "output_type": "stream",
          "name": "stdout",
          "text": [
            "Do you want to play a fun game ?\n",
            "Enter 1 for Yes and 0 for No: 1\n",
            "Let's play the game\n",
            "I'm thinking of a number between 1 and 10.\n",
            "You have 3 chances to guess it.\n",
            "Try to guess it!!\n",
            "Take a guess: 7\n",
            "Your guess is too high.\n",
            "You have 2 chances left.\n",
            "Take a guess: 8\n",
            "Your guess is too high.\n",
            "You have 1 chances left.\n",
            "Take a guess: 9\n",
            "Your guess is too high.\n",
            "You have 0 chances left.\n",
            "Sorry, you ran out of chances. The secret number was:  5\n"
          ]
        }
      ],
      "source": [
        "import random\n",
        "secret_number = random.randint(1, 10) #It will take a random integer number between 1 & 10 and store it in secret_number variable\n",
        "\n",
        "print(\"Do you want to play a fun game ?\")\n",
        "yes_or_no = int(input(\"Enter 1 for Yes and 0 for No: \"))\n",
        "\n",
        "if yes_or_no == 1:\n",
        "    print(\"Let's play the game\")\n",
        "    print(\"I'm thinking of a number between 1 and 10.\")\n",
        "    print(\"You have 3 chances to guess it.\")\n",
        "    print(\"Try to guess it!!\")\n",
        "    chances = 3\n",
        "\n",
        "while chances > 0 :\n",
        "    guess = int(input(\"Take a guess: \"))\n",
        "    if guess < secret_number:\n",
        "        print(\"Your guess is too low.\")\n",
        "    elif guess > secret_number:\n",
        "        print(\"Your guess is too high.\")\n",
        "    else:\n",
        "        print(\"Congratulations! You guessed it!\")\n",
        "        break\n",
        "    chances -= 1\n",
        "    print(\"You have\", chances, \"chances left.\")\n",
        "\n",
        "if chances == 0:\n",
        "    print(\"Sorry, you ran out of chances. The secret number was: \", secret_number)\n",
        "\n",
        "\n",
        "elif yes_or_no == 0:\n",
        "    print(\"Okay, bye\")\n",
        "else:\n",
        "    print(\"Input O or 1\")"
      ]
    }
  ]
}